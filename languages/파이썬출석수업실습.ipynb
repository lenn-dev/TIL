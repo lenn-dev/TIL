{
  "nbformat": 4,
  "nbformat_minor": 0,
  "metadata": {
    "colab": {
      "provenance": [],
      "authorship_tag": "ABX9TyMvlitp2bUn0ryoZFChv/fF",
      "include_colab_link": true
    },
    "kernelspec": {
      "name": "python3",
      "display_name": "Python 3"
    },
    "language_info": {
      "name": "python"
    }
  },
  "cells": [
    {
      "cell_type": "markdown",
      "metadata": {
        "id": "view-in-github",
        "colab_type": "text"
      },
      "source": [
        "<a href=\"https://colab.research.google.com/github/lenn-dev/TIL/blob/main/%ED%8C%8C%EC%9D%B4%EC%8D%AC%EC%B6%9C%EC%84%9D%EC%88%98%EC%97%85%EC%8B%A4%EC%8A%B5.ipynb\" target=\"_parent\"><img src=\"https://colab.research.google.com/assets/colab-badge.svg\" alt=\"Open In Colab\"/></a>"
      ]
    },
    {
      "cell_type": "code",
      "execution_count": 3,
      "metadata": {
        "colab": {
          "base_uri": "https://localhost:8080/"
        },
        "id": "ym22pqHrIIdk",
        "outputId": "aa5d99fd-1064-47ab-e9de-b4a905be79d3"
      },
      "outputs": [
        {
          "output_type": "stream",
          "name": "stdout",
          "text": [
            "3.141592\n",
            "<class 'float'>\n",
            "3000\n",
            "<class 'int'>\n",
            "2024\n",
            "<class 'str'>\n",
            "44\n",
            "16\n",
            "computer science\n",
            "20241\n"
          ]
        }
      ],
      "source": [
        "# ppt 57페이지\n",
        "x = 3.141592\n",
        "y = 3000\n",
        "z = \"2024\"\n",
        "print(x)\n",
        "print(type(x))\n",
        "print(y)\n",
        "print(type(y))\n",
        "print(z)\n",
        "print(type(z))\n",
        "\n",
        "print(2*(7+15))\n",
        "print(2**4) # 2의4승\n",
        "print(\"computer \"+ \"science\")\n",
        "print(\"2024\"+\"1\")"
      ]
    },
    {
      "cell_type": "code",
      "source": [
        "\n",
        "# 원뿔의 부피와 넓이를 구해서 출력\n",
        "# 반지름을 나타내는 변수 r\n",
        "r = 20\n",
        "# 높이를 나타내는 변수 h\n",
        "h = 30\n",
        "# 부피\n",
        "print(1 / 3 * 3.14 * r ** 2 * h )\n",
        "# 겉넓이\n",
        "print(3.14 * r ** 2 + 3.14 * r * h)"
      ],
      "metadata": {
        "colab": {
          "base_uri": "https://localhost:8080/"
        },
        "id": "QdtdVOFnK0XA",
        "outputId": "40247acc-21ae-4b35-884b-045384661b79"
      },
      "execution_count": 4,
      "outputs": [
        {
          "output_type": "stream",
          "name": "stdout",
          "text": [
            "12559.999999999998\n",
            "3140.0\n"
          ]
        }
      ]
    },
    {
      "cell_type": "code",
      "source": [
        "# 원뿔의 부피와 넓이를 구해서 출력\n",
        "# 반지름을 나타내는 변수 r\n",
        "# input()함수는 모두 문자열로 받음\n",
        "r = int(input(\"반지름을 입력하세요\")) # int()함수 이용해 정수로 바꿔줌\n",
        "h = int(input(\"높이를 입력하세요\"))\n",
        "print(r)\n",
        "print(type(r))\n",
        "# 부피\n",
        "print(1 / 3 * 3.14 * r ** 2 * h )\n",
        "# 겉넓이\n",
        "print(3.14 * r ** 2 + 3.14 * r * h)\n"
      ],
      "metadata": {
        "colab": {
          "base_uri": "https://localhost:8080/"
        },
        "id": "I6LZWL4HRfls",
        "outputId": "dc42ace5-595c-480d-93cb-de0f38489eef"
      },
      "execution_count": 10,
      "outputs": [
        {
          "output_type": "stream",
          "name": "stdout",
          "text": [
            "반지름을 입력하세요5\n",
            "높이를 입력하세요4\n",
            "5\n",
            "<class 'int'>\n",
            "104.66666666666666\n",
            "141.3\n"
          ]
        }
      ]
    },
    {
      "cell_type": "code",
      "source": [
        "# 변수 이름 규칙\n",
        "# 1. 문자, 숫자, 밑줄로만 구성\n",
        "# 2. 시작은 문자, 밑줄로만 (숫자 x)\n",
        "# 3. 예약어는 변수로 사용 안됨\n",
        "\n",
        "# 변수 이름 사용하지 못하는 예시\n",
        "# $D$ 특수문자 들어감\n",
        "#1-a 숫자로 시작, - 들어감\n",
        "#2023 숫자로 시작\n",
        "#if 예약어임"
      ],
      "metadata": {
        "id": "bLaNd9qsLQeY"
      },
      "execution_count": null,
      "outputs": []
    },
    {
      "cell_type": "code",
      "source": [
        "#ppt67\n",
        "print(5/2) # 실수로 나눔\n",
        "print(5//2) # 정수로 나누고, 그 몫을 출력\n",
        "print(5%2) # 정수로 나누고 남은 나머지"
      ],
      "metadata": {
        "colab": {
          "base_uri": "https://localhost:8080/"
        },
        "id": "-w8Pf3ziM4aj",
        "outputId": "8389727f-c2b2-4620-c718-41a36148a36f"
      },
      "execution_count": 6,
      "outputs": [
        {
          "output_type": "stream",
          "name": "stdout",
          "text": [
            "2.5\n",
            "2\n",
            "1\n"
          ]
        }
      ]
    },
    {
      "cell_type": "code",
      "source": [
        "print(1//3 * 3.14 * 20 **2 * (30 + 20 %10))\n",
        "# 1. 괄호안의 모듈러먼저 20 % 10 = 0\n",
        "# 2. 괄호안 나머지 계산 30 + 0 = 30\n",
        "# 3. 거듭제곱 계산  20**2 = 400\n",
        "# 4. 곱셈,정수/실수 나눗셈, 나머지연산자 왼쪽부터 오른쪽으로 순서대로 연산\n",
        "#    1//3 = 0 (정수 나눗셈이라 결과값이 0)\n",
        "#    0 * 3.14 * 400 * 30 = 0"
      ],
      "metadata": {
        "colab": {
          "base_uri": "https://localhost:8080/"
        },
        "id": "Lc6gwj6bN6Ns",
        "outputId": "da05e400-2fa2-4cbc-f8e9-c412625c219c"
      },
      "execution_count": 7,
      "outputs": [
        {
          "output_type": "stream",
          "name": "stdout",
          "text": [
            "0.0\n"
          ]
        }
      ]
    },
    {
      "cell_type": "code",
      "source": [
        "print(1/3)\n",
        "print(1//3)"
      ],
      "metadata": {
        "colab": {
          "base_uri": "https://localhost:8080/"
        },
        "id": "0a7InRXVPuPz",
        "outputId": "d3c05e33-9286-493e-d643-6807fe6ea96d"
      },
      "execution_count": 8,
      "outputs": [
        {
          "output_type": "stream",
          "name": "stdout",
          "text": [
            "0.3333333333333333\n",
            "0\n"
          ]
        }
      ]
    },
    {
      "cell_type": "code",
      "source": [
        "print(max(2,3,4))\n",
        "print(min(2,3,4))\n",
        "print(round(3.141592)) # 반올림\n",
        "print(ab(-3)) #절대값\n",
        "print(pow(2,3)) # power = 거듭제곱 = 2**3"
      ],
      "metadata": {
        "id": "D_67zwmNOXib"
      },
      "execution_count": null,
      "outputs": []
    },
    {
      "cell_type": "code",
      "source": [
        "print(\"   *  \")\n",
        "print(\"  *** \")\n",
        "print(\" ***** \")\n",
        "print(\"*******\")\n"
      ],
      "metadata": {
        "id": "vtvddQLSRKAd"
      },
      "execution_count": null,
      "outputs": []
    },
    {
      "cell_type": "code",
      "source": [
        "if (3 > 5):\n",
        "    print(\"if 문이 True일 때, 여기를 실행\")\n",
        "\n",
        "print(\"if문 밖으로 나와서 실행\")"
      ],
      "metadata": {
        "colab": {
          "base_uri": "https://localhost:8080/"
        },
        "id": "BMPTMT0iSd6e",
        "outputId": "da0993b0-a8cb-44f8-af34-f972c45a0625"
      },
      "execution_count": 13,
      "outputs": [
        {
          "output_type": "stream",
          "name": "stdout",
          "text": [
            "if문 밖으로 나와서 실행\n"
          ]
        }
      ]
    },
    {
      "cell_type": "code",
      "source": [
        "# 정수를 하나 입력받아서\n",
        "# 정수가 100보다 클때, 그 수를 출력\n",
        "# 100 보다 작을 때,\n",
        "x = int(input(\"정수를 하나 입력하세요\"))\n",
        "\n",
        "if x >= 100 :\n",
        "    print(x,\"는 100보다 큽니다.\")\n",
        "else :\n",
        "    print(x,\"는 100보다 작습니다.\")\n",
        "\n",
        "print(\"프로그램이 종료되었습니다.\")"
      ],
      "metadata": {
        "colab": {
          "base_uri": "https://localhost:8080/"
        },
        "id": "vvGoIVKZTWW-",
        "outputId": "eadc064e-ea13-4e1d-b278-f72cfb3b167b"
      },
      "execution_count": 18,
      "outputs": [
        {
          "output_type": "stream",
          "name": "stdout",
          "text": [
            "정수를 하나 입력하세요45\n",
            "45 는 100보다 작습니다.\n",
            "프로그램이 종료되었습니다.\n"
          ]
        }
      ]
    },
    {
      "cell_type": "code",
      "source": [
        "\n",
        "# 논리연산자\n",
        "# 원뿔의 부피와 넓이를 구해서 출력\n",
        "# 반지름을 나타내는 변수 r\n",
        "# input()함수는 모두 문자열로 받음\n",
        "r = int(input(\"반지름을 입력하세요\")) # int()함수 이용해 정수로 바꿔줌\n",
        "h = int(input(\"높이를 입력하세요\"))\n",
        "\n",
        "if r > 0 and h > 0 :\n",
        "    # 부피\n",
        "    print(1 / 3 * 3.14 * r ** 2 * h )\n",
        "    # 겉넓이\n",
        "    print(3.14 * r ** 2 + 3.14 * r * h)\n",
        "else:\n",
        "    print(\"높이, 반지름 값은 양수여야 합니다.\")"
      ],
      "metadata": {
        "colab": {
          "base_uri": "https://localhost:8080/"
        },
        "id": "GqjzoxY2VuNj",
        "outputId": "b765aca9-9b62-43bb-90f6-8b5b5074a1dc"
      },
      "execution_count": 19,
      "outputs": [
        {
          "output_type": "stream",
          "name": "stdout",
          "text": [
            "반지름을 입력하세요-1\n",
            "높이를 입력하세요3\n",
            "높이, 반지름 값은 양수여야 합니다.\n"
          ]
        }
      ]
    },
    {
      "cell_type": "code",
      "source": [
        "# 성적을 입력받아서\n",
        "# 90 이상 :A\n",
        "# 90 미만, 80 이상 : B\n",
        "# 80 미만 , 70 이상: C\n",
        "# 70 미만 : F\n",
        "\n",
        "score= (int(input(\"점수를 입력하세요\")))\n",
        "\n",
        "if score >= 90:\n",
        "    print(\"A\")\n",
        "elif score >= 80:\n",
        "    print(\"B\")\n",
        "elif score >= 70:\n",
        "    print(\"C\")\n",
        "else:\n",
        "    print(\"F\")"
      ],
      "metadata": {
        "colab": {
          "base_uri": "https://localhost:8080/"
        },
        "id": "POp1KtIxWS9E",
        "outputId": "a6815639-ad6d-4c29-bfc6-0a63b9acb10d"
      },
      "execution_count": 21,
      "outputs": [
        {
          "output_type": "stream",
          "name": "stdout",
          "text": [
            "점수를 입력하세요70\n",
            "C\n"
          ]
        }
      ]
    },
    {
      "cell_type": "code",
      "source": [
        "# A,B를 입력받아\n",
        "# 둘 중에 큰 수를 출력\n",
        "a = int(input(\"A\"))\n",
        "b = int(input(\"B\"))\n",
        "\n",
        "if a>b:\n",
        "    print(a)\n",
        "elif a<b:\n",
        "    print(b)\n",
        "else:\n",
        "    print(\"두 수가 같습니다.\")"
      ],
      "metadata": {
        "id": "HKv3J5VKYJ3F"
      },
      "execution_count": null,
      "outputs": []
    }
  ]
}
