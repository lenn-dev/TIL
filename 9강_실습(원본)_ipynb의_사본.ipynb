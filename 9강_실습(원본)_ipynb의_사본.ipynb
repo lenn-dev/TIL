{
  "nbformat": 4,
  "nbformat_minor": 0,
  "metadata": {
    "colab": {
      "provenance": [],
      "include_colab_link": true
    },
    "kernelspec": {
      "name": "python3",
      "display_name": "Python 3"
    },
    "language_info": {
      "name": "python"
    }
  },
  "cells": [
    {
      "cell_type": "markdown",
      "metadata": {
        "id": "view-in-github",
        "colab_type": "text"
      },
      "source": [
        "<a href=\"https://colab.research.google.com/github/lenn-dev/TIL/blob/main/9%EA%B0%95_%EC%8B%A4%EC%8A%B5(%EC%9B%90%EB%B3%B8)_ipynb%EC%9D%98_%EC%82%AC%EB%B3%B8.ipynb\" target=\"_parent\"><img src=\"https://colab.research.google.com/assets/colab-badge.svg\" alt=\"Open In Colab\"/></a>"
      ]
    },
    {
      "cell_type": "markdown",
      "source": [
        "# 9강 1절"
      ],
      "metadata": {
        "id": "CAj_VKRq4Mhy"
      }
    },
    {
      "cell_type": "markdown",
      "source": [
        "**원뿔 부피 계산 함수 정의**"
      ],
      "metadata": {
        "id": "-0FrgkDm_YRK"
      }
    },
    {
      "cell_type": "code",
      "execution_count": 4,
      "metadata": {
        "id": "OhGWjvMSf_uP"
      },
      "outputs": [],
      "source": [
        "def prt_cone_vol(r,h):\n",
        "    if r > 0 and h > 0 :\n",
        "        # r, h 모두 양수일 때\n",
        "        vol = 1/3 * 3.14 * r ** 2 * h\n",
        "        print(\"원뿔의 부피는\", vol, \"입니다.\")\n",
        "    else :\n",
        "    # r, h가 음수일 때\n",
        "        print(\"반지름과 높이 값에 양수를 입력하세요\")\n"
      ]
    },
    {
      "cell_type": "markdown",
      "source": [
        "**원뿔 부피 계산 함수 호출**"
      ],
      "metadata": {
        "id": "ygj-h_dt_elG"
      }
    },
    {
      "cell_type": "code",
      "source": [
        "def prt_cone_vol(r,h):\n",
        "    if r > 0 and h > 0 :\n",
        "        # r, h 모두 양수일 때\n",
        "        vol = 1/3 * 3.14 * r ** 2 * h\n",
        "        print(\"원뿔의 부피는\", vol, \"입니다.\")\n",
        "    else :\n",
        "    # r, h가 음수일 때\n",
        "        print(\"반지름과 높이 값에 양수를 입력하세요\")\n",
        "\n",
        "rad = 20\n",
        "hei = -30\n",
        "prt_cone_vol(rad, hei)"
      ],
      "metadata": {
        "id": "Kgl7g457gFnj",
        "colab": {
          "base_uri": "https://localhost:8080/"
        },
        "outputId": "801fefe4-6ddc-46df-fd30-371672a36f9f"
      },
      "execution_count": 7,
      "outputs": [
        {
          "output_type": "stream",
          "name": "stdout",
          "text": [
            "반지름과 높이 값에 양수를 입력하세요\n"
          ]
        }
      ]
    },
    {
      "cell_type": "markdown",
      "source": [
        "**숫자를 입력받고 역순으로 출력하는 함수를 사용한 프로그램 문제**"
      ],
      "metadata": {
        "id": "3T0GpqYK_jXA"
      }
    },
    {
      "cell_type": "code",
      "source": [
        "digits = 34567\n",
        "\n",
        "def reverse_num(num):\n",
        "    while num != 0 :\n",
        "        digit = num % 10\n",
        "        num = num // 10\n",
        "        print(digit, end=\"\")\n",
        "\n",
        "reverse_num(digits)\n"
      ],
      "metadata": {
        "id": "nsHHCmKB_pnQ",
        "colab": {
          "base_uri": "https://localhost:8080/"
        },
        "outputId": "54217d55-5072-4f9f-b900-5c6e3eb97ce7"
      },
      "execution_count": 11,
      "outputs": [
        {
          "output_type": "stream",
          "name": "stdout",
          "text": [
            "76543"
          ]
        }
      ]
    },
    {
      "cell_type": "markdown",
      "source": [
        "# 9강 2절"
      ],
      "metadata": {
        "id": "bw1IBTsp4wMv"
      }
    },
    {
      "cell_type": "markdown",
      "source": [
        "**원뿔 부피 계산 결과 반환 함수 정의**"
      ],
      "metadata": {
        "id": "454aKvSdAI2a"
      }
    },
    {
      "cell_type": "code",
      "source": [
        "def rtn_cone_vol(r,h):\n",
        "    if r > 0 and h > 0 :\n",
        "        # r, h 모두 양수일 때\n",
        "        vol = 1/3 * 3.14 * r ** 2 * h\n",
        "        return vol\n",
        "    else :\n",
        "    # r, h가 음수일 때\n",
        "        print(\"반지름과 높이 값에 양수를 입력하세요\")\n",
        "\n",
        "print(rtn_cone_vol(10,20), \"입니다\")\n",
        "print(format(rtn_cone_vol(10,20),\">20.3f\"), \"입니다\")\n",
        "print(format(rtn_cone_vol(10,20),\"<20.3f\"), \"입니다\")"
      ],
      "metadata": {
        "id": "X8lfqqRBAQfV",
        "colab": {
          "base_uri": "https://localhost:8080/"
        },
        "outputId": "967e835d-832f-47c2-b3a5-f2305e434cd2"
      },
      "execution_count": 14,
      "outputs": [
        {
          "output_type": "stream",
          "name": "stdout",
          "text": [
            "2093.333333333333 입니다\n",
            "            2093.333 입니다\n",
            "2093.333             입니다\n"
          ]
        }
      ]
    },
    {
      "cell_type": "markdown",
      "source": [
        "**원뿔 부피 및 겉넓이 반환 함수 정의**"
      ],
      "metadata": {
        "id": "Ae2D5Cal_szh"
      }
    },
    {
      "cell_type": "code",
      "source": [
        "# 파이썬만의 고유한 기능\n",
        "def rtn_cone_vol_surf(r,h):\n",
        "    if r > 0 and h > 0 :\n",
        "        # r, h 모두 양수일 때\n",
        "        vol = 1/3 * 3.14 * r ** 2 * h\n",
        "        surf = 3.14 * r ** 2 + 3.14 * r * h\n",
        "        return vol,surf\n",
        "    else :\n",
        "    # r, h가 음수일 때\n",
        "        print(\"반지름과 높이 값에 양수를 입력하세요\")\n",
        "\n",
        "\n",
        "print(rtn_cone_vol_surf(50,100))\n",
        "vol1,surf1 = rtn_cone_vol_surf(50,100)\n",
        "print(vol1,\"입니다\")\n",
        "print(surf1,\"입니다\")"
      ],
      "metadata": {
        "id": "cwZ6g1au45RD",
        "colab": {
          "base_uri": "https://localhost:8080/"
        },
        "outputId": "999c4fc3-ea98-420d-89d4-df9b637aec85"
      },
      "execution_count": 17,
      "outputs": [
        {
          "output_type": "stream",
          "name": "stdout",
          "text": [
            "(261666.66666666666, 23550.0)\n",
            "261666.66666666666 입니다\n",
            "23550.0 입니다\n"
          ]
        }
      ]
    },
    {
      "cell_type": "markdown",
      "source": [
        "**세 개의 사용자 입력을 오름차순으로 정렬하는 함수를 이용하여 정렬된 값을 출력하는 문제**\n"
      ],
      "metadata": {
        "id": "0FMNpd_4Ah9j"
      }
    },
    {
      "cell_type": "code",
      "source": [
        "a = int(input(\"첫번째 숫자를 입력하세요: \"))\n",
        "b = int(input(\"두번째 숫자를 입력하세요: \"))\n",
        "c = int(input(\"세번째 숫자를 입력하세요: \"))\n",
        "\n",
        "def sort3(a, b, c) :\n",
        "    if a > b :\n",
        "        a, b = b, a\n",
        "    if a > c :\n",
        "        a, c = c, a\n",
        "    if b > c :\n",
        "        b, c = c, b\n",
        "    print(a,b,c)\n",
        "\n",
        "\n",
        "sort3(a,b,c)\n",
        "print(\"출력이후\", a,b,c)\n",
        "# 함수내에서는 값만 전달되지 변수가 변경되지 않음"
      ],
      "metadata": {
        "id": "toh-zjeLArWn",
        "colab": {
          "base_uri": "https://localhost:8080/"
        },
        "outputId": "7b1d3186-9ea9-48e4-fd2e-8ea5a4753b4b"
      },
      "execution_count": 18,
      "outputs": [
        {
          "output_type": "stream",
          "name": "stdout",
          "text": [
            "첫번째 숫자를 입력하세요: 34\n",
            "두번째 숫자를 입력하세요: 12\n",
            "세번째 숫자를 입력하세요: 100\n",
            "12 34 100\n",
            "출력이후 34 12 100\n"
          ]
        }
      ]
    },
    {
      "cell_type": "markdown",
      "source": [
        "# 9강 3절"
      ],
      "metadata": {
        "id": "7qOMFABd4y1t"
      }
    },
    {
      "cell_type": "markdown",
      "source": [
        "**값의 전달**"
      ],
      "metadata": {
        "id": "pVwxXsFLBCY-"
      }
    },
    {
      "cell_type": "code",
      "source": [
        "def rtn_cone_vol(r,h):\n",
        "    if r > 0 and h > 0 :\n",
        "        # r, h 모두 양수일 때\n",
        "        vol = 1/3 * 3.14 * r ** 2 * h\n",
        "        r,h =0,0\n",
        "        return vol\n",
        "    else :\n",
        "    # r, h가 음수일 때\n",
        "        print(\"반지름과 높이 값에 양수를 입력하세요\")\n",
        "\n",
        "r = 50\n",
        "h =100\n",
        "print(rtn_cone_vol(50,100))\n",
        "print(format(rtn_cone_vol(r,h), \">10.3f\"))\n",
        "print(\"함수사용 후\",r,h)\n"
      ],
      "metadata": {
        "id": "cwoR_CQp45ti",
        "colab": {
          "base_uri": "https://localhost:8080/"
        },
        "outputId": "c7e1c404-1544-4deb-9acf-ace9977c2ae9"
      },
      "execution_count": 22,
      "outputs": [
        {
          "output_type": "stream",
          "name": "stdout",
          "text": [
            "261666.66666666666\n",
            "261666.667\n",
            "함수사용 후 50 100\n"
          ]
        }
      ]
    },
    {
      "cell_type": "markdown",
      "source": [
        "**변수의 스코프**"
      ],
      "metadata": {
        "id": "Wybq2K3yBJ8C"
      }
    },
    {
      "cell_type": "code",
      "source": [
        "x = 1\n",
        "print(\"x의 값은\", x)\n",
        "\n",
        "def inc(x):\n",
        "    x = x + 1\n",
        "    print(\"x 값은\", x)\n",
        "\n",
        "inc(x)\n",
        "print(\"3, x의 값은\", x)"
      ],
      "metadata": {
        "id": "6ZuNFN9BBWKR",
        "colab": {
          "base_uri": "https://localhost:8080/"
        },
        "outputId": "0c8b16cc-d375-446f-d92f-84da3a94808f"
      },
      "execution_count": 23,
      "outputs": [
        {
          "output_type": "stream",
          "name": "stdout",
          "text": [
            "x의 값은 1\n",
            "x 값은 2\n",
            "3, x의 값은 1\n"
          ]
        }
      ]
    },
    {
      "cell_type": "markdown",
      "source": [
        "**단위 원뿔(반지름 20, 높이 30)의 부피와 겉넓이를 출력하는 문제**"
      ],
      "metadata": {
        "id": "YDpFj9zqBL35"
      }
    },
    {
      "cell_type": "code",
      "source": [
        "# 원뿔 계산 함수 정의\n",
        "def rtn_cone_vol_surf(r =20 , h = 30) : #기본값 설정함\n",
        "    if r > 0 and h > 0 :\n",
        "        # r, h 모두 양수일 때\n",
        "        vol = 1/3 * 3.14 * r ** 2 * h\n",
        "        surf = 3.14 * r ** 2 + 3.14 * r * h\n",
        "        return vol, surf\n",
        "    else :\n",
        "        # r, h가 음수일 때\n",
        "        print(\"반지름과 높이 값에 양수를 입력하세요\")\n",
        "\n",
        "print(rtn_cone_vol_surf(100,200))\n",
        "print(rtn_cone_vol_surf()) # 매개변수 넣지 않아도 기본값이 있어서 출력함"
      ],
      "metadata": {
        "id": "mzWTObQdBXHc",
        "colab": {
          "base_uri": "https://localhost:8080/"
        },
        "outputId": "49057b69-f79c-4c51-f8ba-6f34d33f9171"
      },
      "execution_count": 25,
      "outputs": [
        {
          "output_type": "stream",
          "name": "stdout",
          "text": [
            "(2093333.3333333333, 94200.0)\n",
            "(12559.999999999998, 3140.0)\n"
          ]
        }
      ]
    },
    {
      "cell_type": "markdown",
      "source": [
        "**여러개의 수를 입력받고 합과 평균을 반환하는는 var_sum_avg 함수를 사용하여, (20, 25, 10, 85, 100, 150)에 대한 합과 평균을 출력하는 프로그램을 작성하시오.**\n"
      ],
      "metadata": {
        "id": "WqqJAJ0ACOjj"
      }
    },
    {
      "cell_type": "code",
      "source": [
        "def var_sum_avg(*numbers):\n",
        "    sum = 0\n",
        "    count = 0\n",
        "\n",
        "    for i in numbers :\n",
        "        sum = sum + i\n",
        "        count = count + 1\n",
        "\n",
        "    return sum, sum/count\n",
        "\n",
        "print(var_sum_avg(10,20,30,40))\n",
        "print(var_sum_avg(20,25,10,85,100,150))"
      ],
      "metadata": {
        "id": "GDZkR-SKCVth",
        "colab": {
          "base_uri": "https://localhost:8080/"
        },
        "outputId": "2f21968c-afb5-49e6-fb95-1b4146d9f2ab"
      },
      "execution_count": 28,
      "outputs": [
        {
          "output_type": "stream",
          "name": "stdout",
          "text": [
            "(100, 25.0)\n",
            "(390, 65.0)\n"
          ]
        }
      ]
    }
  ]
}