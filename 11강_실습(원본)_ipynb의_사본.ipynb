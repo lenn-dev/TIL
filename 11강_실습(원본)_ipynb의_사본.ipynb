{
  "nbformat": 4,
  "nbformat_minor": 0,
  "metadata": {
    "colab": {
      "provenance": [],
      "include_colab_link": true
    },
    "kernelspec": {
      "name": "python3",
      "display_name": "Python 3"
    },
    "language_info": {
      "name": "python"
    }
  },
  "cells": [
    {
      "cell_type": "markdown",
      "metadata": {
        "id": "view-in-github",
        "colab_type": "text"
      },
      "source": [
        "<a href=\"https://colab.research.google.com/github/lenn-dev/TIL/blob/main/11%EA%B0%95_%EC%8B%A4%EC%8A%B5(%EC%9B%90%EB%B3%B8)_ipynb%EC%9D%98_%EC%82%AC%EB%B3%B8.ipynb\" target=\"_parent\"><img src=\"https://colab.research.google.com/assets/colab-badge.svg\" alt=\"Open In Colab\"/></a>"
      ]
    },
    {
      "cell_type": "markdown",
      "source": [
        "# 11강 실습"
      ],
      "metadata": {
        "id": "EtjZiTaxLjdH"
      }
    },
    {
      "cell_type": "markdown",
      "source": [
        "**11강 1절 모듈의 이해**"
      ],
      "metadata": {
        "id": "dM5Jl78KLnIG"
      }
    },
    {
      "cell_type": "markdown",
      "source": [
        "dir, help 함수 테스트"
      ],
      "metadata": {
        "id": "jLudepg7Lv6Y"
      }
    },
    {
      "cell_type": "code",
      "execution_count": 4,
      "metadata": {
        "id": "QjtNEdkcynR7",
        "colab": {
          "base_uri": "https://localhost:8080/"
        },
        "outputId": "7466f356-3940-4ecd-aa3d-7e10414898f2"
      },
      "outputs": [
        {
          "output_type": "stream",
          "name": "stdout",
          "text": [
            "Help on built-in function gamma in module math:\n",
            "\n",
            "gamma(x, /)\n",
            "    Gamma function at x.\n",
            "\n"
          ]
        }
      ],
      "source": [
        "import math\n",
        "dir(math)\n",
        "\n",
        "help (math.gamma)\n",
        "help()\n"
      ]
    },
    {
      "cell_type": "markdown",
      "source": [
        "math 모듈을 사용한 원뿔 계산 프로그램"
      ],
      "metadata": {
        "id": "BZcxx1KcM2eF"
      }
    },
    {
      "cell_type": "code",
      "source": [
        "# 원뿔 클래스 정의\n",
        "class Cone :\n",
        "    def __init__(self, radius = 20, height = 30):\n",
        "        self.r = radius\n",
        "        self.h = height\n",
        "\n",
        "    def get_vol(self) :\n",
        "        return 1/3 * 3.14 * self.r ** 2 * self.h\n",
        "\n",
        "    def get_surf(self) :\n",
        "        return 3.14 * self.r ** 2 + 3.14 * self.r * self.h\n",
        "\n",
        "# 원뿔 클래스 정의 (수정)\n",
        "# 3.14 를 math 모듈 import 해서 pi 로 대체해서 더 정교한 값으로 쓰기\n",
        "import math\n",
        "print(math.pi)\n",
        "class Cone :\n",
        "    def __init__(self, radius = 20, height = 30):\n",
        "        self.r = radius\n",
        "        self.h = height\n",
        "\n",
        "    def get_vol(self) :\n",
        "        return 1/3 * math.pi * self.r ** 2 * self.h\n",
        "\n",
        "    def get_surf(self) :\n",
        "        return math.pi * self.r ** 2 + math.pi * self.r * self.h"
      ],
      "metadata": {
        "id": "ZJwXQoQIM7uw",
        "colab": {
          "base_uri": "https://localhost:8080/"
        },
        "outputId": "e352531d-d61f-45f5-ebf2-49f4752cc2a6"
      },
      "execution_count": 5,
      "outputs": [
        {
          "output_type": "stream",
          "name": "stdout",
          "text": [
            "3.141592653589793\n"
          ]
        }
      ]
    },
    {
      "cell_type": "markdown",
      "source": [
        "**11강 2절 유용한 모듈**"
      ],
      "metadata": {
        "id": "MwGVxn3sLy8T"
      }
    },
    {
      "cell_type": "markdown",
      "source": [
        "두 변의 길이 a, b와 끼인각 α인 삼각형의 넓이를 구하는 프로그램을 작성하시오.\n"
      ],
      "metadata": {
        "id": "A2gzGR3nM8nI"
      }
    },
    {
      "cell_type": "code",
      "source": [
        "import math\n",
        "from math import sin\n",
        "\n",
        "a,b = 10, 20\n",
        "# area = 1/2 * a * b * math.sin(60)\n",
        "# 이렇게 하면 음수 값이 나옴\n",
        "# 사인에 들어가는 값을 호도법에 맞춰서 바꿔줘야 함 (각도가 아닌 파이값으로 해줘야 함)\n",
        "area = 1/2 * a * b * sin(math.radians(60))\n",
        "print(area)"
      ],
      "metadata": {
        "id": "CK6KXvIv3IZV",
        "colab": {
          "base_uri": "https://localhost:8080/"
        },
        "outputId": "820ae11a-387d-44ef-a0f6-922f6fcb3bcc"
      },
      "execution_count": 9,
      "outputs": [
        {
          "output_type": "stream",
          "name": "stdout",
          "text": [
            "86.60254037844386\n"
          ]
        }
      ]
    },
    {
      "cell_type": "markdown",
      "source": [
        "1 ~ 45 숫자 6개를 입력 받아 당첨 숫자와\n",
        "비교하는 프로그램을 작성하시오.\n"
      ],
      "metadata": {
        "id": "UP6aKi22RoxB"
      }
    },
    {
      "cell_type": "code",
      "source": [
        "import random\n",
        "# 무작위번호 생성\n",
        "# 사용자 번호 받기\n",
        "# input 문자열을 split을 사용해 콤마기준으로 분리\n",
        "guess_str = input(\"1부터 45 사이 숫자 중 6개를 쉼표로 분리하여 입력하세요: \").split(\",\")\n",
        "# 공백리스트 만들기\n",
        "guess_list = list()\n",
        "# 공백리스트에 정수로 변환한 숫자 넣기\n",
        "for i in guess_str:\n",
        "    guess_list.append(int(i))\n",
        "\n",
        "# 특정 번호 사이에서 숫자를 가져올 때 사용하는 것이 sample 멤버\n",
        "# 1-45 까지 1씩 증가하는 숫자중에 6개의 숫자를 sampling 해서 가져옴\n",
        "lotto_list = random.sample(range(1,46,1),6)\n",
        "\n",
        "\n",
        "print(\"guess번호는\", guess_list, \"입니다.\")\n",
        "print(\"추첨번호는\", lotto_list, \"입니다.\")\n",
        "\n",
        "# 같은 숫자 있을 경우 카운트\n",
        "hit_count = 0\n",
        "\n",
        "for i in guess_list:\n",
        "    if i in lotto_list :\n",
        "        hit_count = hit_count +1\n",
        "\n",
        "print (\"축하합니다.\" + str(hit_count) + \"개 맞혔습니다.\")"
      ],
      "metadata": {
        "id": "Btr-jR2m3KZA",
        "colab": {
          "base_uri": "https://localhost:8080/"
        },
        "outputId": "64bed002-bf64-4161-e80a-4c7fceedf84c"
      },
      "execution_count": 11,
      "outputs": [
        {
          "output_type": "stream",
          "name": "stdout",
          "text": [
            "1부터 45 사이 숫자 중 6개를 쉼표로 분리하여 입력하세요: 1,2,3,4,5,6\n",
            "guess번호는 [1, 2, 3, 4, 5, 6] 입니다.\n",
            "추첨번호는 [16, 19, 39, 38, 24, 9] 입니다.\n",
            "축하합니다.0개 맞혔습니다.\n"
          ]
        }
      ]
    },
    {
      "cell_type": "markdown",
      "source": [
        "20번의 기회 안에 1 ~ 1000 사이의 숫자를\n",
        "맞히는 스무고개 프로그램을 작성하시오.\n"
      ],
      "metadata": {
        "id": "dZ3mQM7hR7z5"
      }
    },
    {
      "cell_type": "code",
      "source": [
        "\n",
        "import random\n",
        "\n",
        "# 처음에 실패로 설정\n",
        "passfail = False\n",
        "\n",
        "# 컴퓨터 랜덤 넘버 생성\n",
        "hit_number = random.randint(1,1001)\n",
        "\n",
        "#총 20번의 기회 범위 설정\n",
        "guess_count_list = range(1,21,1)\n",
        "for guess_count in guess_count_list:\n",
        "\n",
        "    # 사용자입력\n",
        "    guess = int(input(\"숫자를 맞혀보세요.(\" + str(guess_count) + \"번째 시도): \"))\n",
        "\n",
        "    # 컴퓨터번호와 사용자입력 비교\n",
        "    if hit_number == guess:\n",
        "        passfail = True\n",
        "        # 정답일 경우 for 문 반복 멈추고 멈추기\n",
        "        # 프로그램 실패시도 생각해보기\n",
        "        break\n",
        "    elif hit_number > guess :\n",
        "        print (str(\"guess\") + \"보다 큽니다. \", end=\"\")\n",
        "    else:\n",
        "        print (str(\"guess\") + \"보다 작습니다. \", end=\"\")\n",
        "\n",
        "if passfail == True:\n",
        "    print(\"축하합니다. 정답입니다.\")\n",
        "else:\n",
        "    print(\"모든 기회를 다 사용했습니다. 다음기회에...\")\n",
        "\n"
      ],
      "metadata": {
        "id": "XhmZvkWVSA9Z",
        "colab": {
          "base_uri": "https://localhost:8080/"
        },
        "outputId": "bfe5888f-d1a7-4a24-a639-bd81cb90c9f3"
      },
      "execution_count": 13,
      "outputs": [
        {
          "output_type": "stream",
          "name": "stdout",
          "text": [
            "숫자를 맞혀보세요.(1번째 시도): 500\n",
            "guess보다 작습니다. 숫자를 맞혀보세요.(2번째 시도): 250\n",
            "guess보다 작습니다. 숫자를 맞혀보세요.(3번째 시도): 150\n",
            "guess보다 작습니다. 숫자를 맞혀보세요.(4번째 시도): 70\n",
            "guess보다 큽니다. 숫자를 맞혀보세요.(5번째 시도): 90\n",
            "guess보다 큽니다. 숫자를 맞혀보세요.(6번째 시도): 120\n",
            "guess보다 작습니다. 숫자를 맞혀보세요.(7번째 시도): 100\n",
            "guess보다 작습니다. 숫자를 맞혀보세요.(8번째 시도): 95\n",
            "guess보다 큽니다. 숫자를 맞혀보세요.(9번째 시도): 97\n",
            "숫자를 맞혀보세요.(10번째 시도): 99\n",
            "guess보다 작습니다. 숫자를 맞혀보세요.(11번째 시도): 98\n",
            "guess보다 작습니다. 숫자를 맞혀보세요.(12번째 시도): 80\n",
            "guess보다 큽니다. 숫자를 맞혀보세요.(13번째 시도): 75\n",
            "guess보다 큽니다. 숫자를 맞혀보세요.(14번째 시도): 76\n",
            "guess보다 큽니다. 숫자를 맞혀보세요.(15번째 시도): 77\n",
            "guess보다 큽니다. 숫자를 맞혀보세요.(16번째 시도): 78\n",
            "guess보다 큽니다. 숫자를 맞혀보세요.(17번째 시도): 79\n",
            "guess보다 큽니다. 숫자를 맞혀보세요.(18번째 시도): 80\n",
            "guess보다 큽니다. 숫자를 맞혀보세요.(19번째 시도): 81\n",
            "guess보다 큽니다. 숫자를 맞혀보세요.(20번째 시도): 90\n",
            "guess보다 큽니다. 축하합니다. 정답입니다.\n"
          ]
        }
      ]
    },
    {
      "cell_type": "markdown",
      "source": [
        "1000보다 작은 소수 찾기 프로그램"
      ],
      "metadata": {
        "id": "EdHUe1hr3bho"
      }
    },
    {
      "cell_type": "code",
      "source": [
        "# time 모듈 사용해보기\n",
        "import time\n",
        "\n",
        "# 시작시간 start_time 변수에 넣기\n",
        "start_time = time.time()\n",
        "\n",
        "\n",
        "# 소수인지 아닌지 판단하는 함수 정의\n",
        "def is_prime(x):\n",
        "    # 숫자 2부터 x 까지로 나눠보기\n",
        "    for i in range(2,x):\n",
        "        # i로 나눴을 때 나누어 떨어지면 (나머지 0) 소수가 아니므로 False 반환\n",
        "        if x % i == 0 :\n",
        "            return False\n",
        "    # 나눠 떨어지는게 없으면 True 반환\n",
        "    return True\n",
        "\n",
        "# 소수가 몇개인지 세기\n",
        "prime_count = 0\n",
        "for i in range (2, 1001) :\n",
        "    # is_prime 함수 사용하여 2부터 1000까지 숫자를 집어 넣었는데, True이면\n",
        "    #  prime_count 1 씩 증가시키기\n",
        "    if is_prime(i):\n",
        "        prime_count = prime_count + 1\n",
        "        # 소수 출력\n",
        "        print(i, end=\", \")\n",
        "\n",
        "# 끝나는 시간 end_time 변수에 넣기\n",
        "end_time = time.time()\n",
        "\n",
        "# 실행시간 출력\n",
        "print(\"\\n\", end_time - start_time, \"초 실행했습니다.\")"
      ],
      "metadata": {
        "id": "b0odUfVq3bNF",
        "colab": {
          "base_uri": "https://localhost:8080/"
        },
        "outputId": "05a9d0c5-d472-4e24-c248-75397d66f35a"
      },
      "execution_count": 18,
      "outputs": [
        {
          "output_type": "stream",
          "name": "stdout",
          "text": [
            "2, 3, 5, 7, 11, 13, 17, 19, 23, 29, 31, 37, 41, 43, 47, 53, 59, 61, 67, 71, 73, 79, 83, 89, 97, 101, 103, 107, 109, 113, 127, 131, 137, 139, 149, 151, 157, 163, 167, 173, 179, 181, 191, 193, 197, 199, 211, 223, 227, 229, 233, 239, 241, 251, 257, 263, 269, 271, 277, 281, 283, 293, 307, 311, 313, 317, 331, 337, 347, 349, 353, 359, 367, 373, 379, 383, 389, 397, 401, 409, 419, 421, 431, 433, 439, 443, 449, 457, 461, 463, 467, 479, 487, 491, 499, 503, 509, 521, 523, 541, 547, 557, 563, 569, 571, 577, 587, 593, 599, 601, 607, 613, 617, 619, 631, 641, 643, 647, 653, 659, 661, 673, 677, 683, 691, 701, 709, 719, 727, 733, 739, 743, 751, 757, 761, 769, 773, 787, 797, 809, 811, 821, 823, 827, 829, 839, 853, 857, 859, 863, 877, 881, 883, 887, 907, 911, 919, 929, 937, 941, 947, 953, 967, 971, 977, 983, 991, 997, \n",
            " 0.06181788444519043 초 실행했습니다.\n"
          ]
        }
      ]
    }
  ]
}